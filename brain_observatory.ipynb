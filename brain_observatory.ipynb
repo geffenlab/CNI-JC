{
 "cells": [
  {
   "cell_type": "markdown",
   "metadata": {},
   "source": [
    "# Brain Observatory\n",
    "This notebook documents some classes and functions in the AllenSDK that help manipulate files and data structures in the Allen Brain Observatory.  The main entry point in the `BrainObservatoryCache` class.  This class is responsible for downloading any requested data or metadata on request and storing it in well known locations.\n",
    "\n",
    "Download this file in .ipynb format <a href='brain_observatory.html'>here</a>."
   ]
  },
  {
   "cell_type": "markdown",
   "metadata": {},
   "source": [
    "## Experiment Containers\n",
    "The experiment container describes a set of experiments performed with the same targeted area, imaging depth, and Cre line.  The `BrainObservatoryCache` has a number of functions for figuring out what experiment containers are available at the moment."
   ]
  },
  {
   "cell_type": "code",
   "execution_count": 1,
   "metadata": {
    "collapsed": false
   },
   "outputs": [
    {
     "name": "stdout",
     "output_type": "stream",
     "text": [
      "all targeted structures: [u'VISal', u'VISl', u'VISp', u'VISpm']\n"
     ]
    }
   ],
   "source": [
    "from allensdk.core.brain_observatory_cache import BrainObservatoryCache\n",
    "import pprint\n",
    "\n",
    "# This class uses a 'manifest' to keep track of downloaded data and metadata.  \n",
    "# All downloaded files will be stored relative to the directory holding the manifest\n",
    "# file.  If 'manifest_file' is a relative path (as it is below), it will be \n",
    "# saved relative to your working directory.  It can also be an absolute path.\n",
    "boc = BrainObservatoryCache(manifest_file='boc/manifest.json')\n",
    "\n",
    "# Download a list of all targeted areas\n",
    "targeted_structures = boc.get_all_targeted_structures()\n",
    "print(\"all targeted structures: \" + str(targeted_structures))"
   ]
  },
  {
   "cell_type": "code",
   "execution_count": 2,
   "metadata": {
    "collapsed": false
   },
   "outputs": [
    {
     "name": "stdout",
     "output_type": "stream",
     "text": [
      "all VISp experiment containers: 25\n"
     ]
    }
   ],
   "source": [
    "# Download experiment containers for VISp experiments\n",
    "visp_ecs = boc.get_experiment_containers(targeted_structures=['VISp'])\n",
    "print(\"all VISp experiment containers: %d\" % len(visp_ecs))"
   ]
  },
  {
   "cell_type": "code",
   "execution_count": 3,
   "metadata": {
    "collapsed": false
   },
   "outputs": [
    {
     "name": "stdout",
     "output_type": "stream",
     "text": [
      "all imaging depths: [175, 275, 350, 375]\n"
     ]
    }
   ],
   "source": [
    "# Download a list of all imaging depths\n",
    "depths = boc.get_all_imaging_depths()\n",
    "print(\"all imaging depths: \" + str(depths))"
   ]
  },
  {
   "cell_type": "code",
   "execution_count": 4,
   "metadata": {
    "collapsed": false
   },
   "outputs": [
    {
     "name": "stdout",
     "output_type": "stream",
     "text": [
      "all stimuli:\n",
      "\n",
      "['drifting_gratings',\n",
      " 'locally_sparse_noise',\n",
      " 'natural_movie_one',\n",
      " 'natural_movie_three',\n",
      " 'natural_movie_two',\n",
      " 'natural_scenes',\n",
      " 'spontaneous',\n",
      " 'static_gratings']\n"
     ]
    }
   ],
   "source": [
    "# Download a list of all stimuli\n",
    "stims = boc.get_all_stimuli()\n",
    "print(\"all stimuli:\\n\")\n",
    "pprint.pprint(stims)"
   ]
  },
  {
   "cell_type": "code",
   "execution_count": 5,
   "metadata": {
    "collapsed": false
   },
   "outputs": [
    {
     "name": "stdout",
     "output_type": "stream",
     "text": [
      "all cre lines: [u'Cux2-CreERT2', u'Rbp4-Cre', u'Rorb-IRES2-Cre', u'Scnn1a-Tg3-Cre']\n"
     ]
    }
   ],
   "source": [
    "# Download a list of all cre driver lines \n",
    "cre_lines = boc.get_all_cre_lines()\n",
    "print(\"all cre lines: \" + str(cre_lines))"
   ]
  },
  {
   "cell_type": "code",
   "execution_count": 6,
   "metadata": {
    "collapsed": false
   },
   "outputs": [
    {
     "name": "stdout",
     "output_type": "stream",
     "text": [
      "Cux2 experiments: 42\n",
      "\n",
      "Example experiment container record:\n",
      "{'age_days': 143.0,\n",
      " 'cre_line': u'Cux2-CreERT2',\n",
      " 'id': 511510695,\n",
      " 'imaging_depth': 175,\n",
      " 'targeted_structure': u'VISal'}\n"
     ]
    }
   ],
   "source": [
    "# Download experiment containers for Cux2 experiments\n",
    "cux2_ecs = boc.get_experiment_containers(cre_lines=['Cux2-CreERT2'])\n",
    "print(\"Cux2 experiments: %d\\n\" % len(cux2_ecs))\n",
    "\n",
    "print(\"Example experiment container record:\")\n",
    "pprint.pprint(cux2_ecs[0])"
   ]
  },
  {
   "cell_type": "markdown",
   "metadata": {},
   "source": [
    "## Download Experiments for a Container\n",
    "An experiment container is a group of experiments.  Each experiment has a different stimulus protocol.  For example, one experiment protocol contains the static gratings stimulus and another has the natural scenes stimulus.  The `BrainObservatoryCache` helps you find out which experiment associated with a container has the stimuli you are interested in.  First, let's see what experiments are available for a single container."
   ]
  },
  {
   "cell_type": "code",
   "execution_count": null,
   "metadata": {
    "collapsed": false
   },
   "outputs": [],
   "source": [
    "# Find all of the experiments for an experiment container\n",
    "cux2_ec_id = cux2_ecs[0]['id']\n",
    "exps = boc.get_ophys_experiments(experiment_container_ids=[cux2_ec_id])\n",
    "print(\"Experiments for experiment_container_id %d: %d\\n\" % (cux2_ec_id, len(exps)))\n",
    "pprint.pprint(exps)"
   ]
  },
  {
   "cell_type": "markdown",
   "metadata": {},
   "source": [
    "The `session_type` field indicates which experimental protocol was used.  If you just want to find which experiment contains the static gratings stimulus, you can do the following:"
   ]
  },
  {
   "cell_type": "code",
   "execution_count": null,
   "metadata": {
    "collapsed": false
   },
   "outputs": [],
   "source": [
    "import allensdk.brain_observatory.stimulus_info as stim_info\n",
    "\n",
    "# Find the experiment with the static static gratings stimulus\n",
    "cux2_ec_id = cux2_ecs[0]['id']\n",
    "exp = boc.get_ophys_experiments(experiment_container_ids=[cux2_ec_id], \n",
    "                                stimuli=[stim_info.STATIC_GRATINGS])[0]\n",
    "print(\"Experiment with static gratings:\")\n",
    "pprint.pprint(exp)"
   ]
  },
  {
   "cell_type": "markdown",
   "metadata": {},
   "source": [
    "Now we can download the NWB file for this experiment."
   ]
  },
  {
   "cell_type": "code",
   "execution_count": null,
   "metadata": {
    "collapsed": false
   },
   "outputs": [],
   "source": [
    "exp = boc.get_ophys_experiment_data(exp['id'])\n",
    "\n",
    "# print out the metadata available in the NWB file\n",
    "pprint.pprint(exp.get_metadata())"
   ]
  },
  {
   "cell_type": "markdown",
   "metadata": {},
   "source": [
    "## Find Cells of Interest\n",
    "Another way to look for data is to search for cells with interesting tuning properties.  We have pre-computed a set of cell metrics, including: \n",
    "\n",
    "stimulus          | metric                       | field name \n",
    "----------------- | ---------------------------- | ----------\n",
    "drifting gratings | orientation selectivity      | osi_dg \n",
    "                  | direction selectivity        | dsi_dg \n",
    "                  | preferred direction          | pref_dir_dg \n",
    "                  | preferred temporal frequency | pref_tf_dg \n",
    "                  | response p value             | p_dg \n",
    "static gratings   | orientation selectivity      | osi_sg \n",
    "                  | preferred orientation        | pref_ori_sg \n",
    "                  | preferred spatial frequency  | pref_sf_sg \n",
    "                  | preferred phase              | pref_phase_sg \n",
    "                  | mean time to peak response   | time_to_peak_sg \n",
    "                  | response p value             | p_sg \n",
    "natural scenes    | mean time to peak response   | time_to_peak_ns \n",
    "                  | preferred scene index        | pref_scene_ns \n",
    "                  | response p value             | p_ns \n",
    "\n",
    "You can use these properties to filter the full set of cells down to the set your are interested in."
   ]
  },
  {
   "cell_type": "code",
   "execution_count": null,
   "metadata": {
    "collapsed": true
   },
   "outputs": [],
   "source": [
    "import pandas as pd\n",
    "\n",
    "# Download cells for a set of experiments and convert to DataFrame\n",
    "cells = boc.get_cell_specimens()\n",
    "cells = pd.DataFrame.from_records(cells)\n",
    "print(\"total cells: %d\" % len(cells))\n",
    "# find direction selective cells in VISp\n",
    "visp_ec_ids = [ ec['id'] for ec in visp_ecs ]\n",
    "visp_cells = cells[cells['experiment_container_id'].isin(visp_ec_ids)]\n",
    "print(\"VISp cells: %d\" % len(visp_cells))\n",
    "\n",
    "# significant response to drifting gratings stimulus\n",
    "sig_cells = visp_cells[visp_cells['p_dg'] < 0.05]\n",
    "print(\"cells with sig. response to drifting gratings: %d\" % len(sig_cells))\n",
    "\n",
    "# direction selective cells\n",
    "dsi_cells = sig_cells[(sig_cells['dsi_dg'] > 0.5) & (sig_cells['dsi_dg'] < 1.5)]\n",
    "print(\"direction-selective cells: %d\" % len(dsi_cells))"
   ]
  },
  {
   "cell_type": "markdown",
   "metadata": {},
   "source": [
    "## Find Experiments for Cells\n",
    "Once you have found a set of cells you would like to investigate, you can use the `BrainObservatoryCache` to find the experiments for those cells that contain the relevant stimulus."
   ]
  },
  {
   "cell_type": "code",
   "execution_count": null,
   "metadata": {
    "collapsed": false
   },
   "outputs": [],
   "source": [
    "import allensdk.brain_observatory.stimulus_info as stim_info\n",
    "\n",
    "# find experiment containers for those cells\n",
    "dsi_ec_ids = dsi_cells['experiment_container_id'].unique()\n",
    "print(\"total dsi experiment containers: %d\" % len(dsi_ec_ids))\n",
    "\n",
    "# Download the ophys experiments containing the drifting gratings stimulus for VISp experiment containers\n",
    "dsi_exps = boc.get_ophys_experiments(experiment_container_ids=dsi_ec_ids, stimuli=[stim_info.DRIFTING_GRATINGS])\n",
    "print(\"VISp drifting gratings ophys experiments: %d\" % len(dsi_exps))\n",
    "\n",
    "print(\"Example ophys experiment:\")\n",
    "pprint.pprint(dsi_exps[0])"
   ]
  },
  {
   "cell_type": "markdown",
   "metadata": {},
   "source": [
    "## Download Experiment Data for a Cell\n",
    "Once you have some experiments, you can download the NWB files that contain the fluorescence traces for segmented cells in those experiments."
   ]
  },
  {
   "cell_type": "code",
   "execution_count": null,
   "metadata": {
    "collapsed": false
   },
   "outputs": [],
   "source": [
    "# pick a direction-selective cell and find its NWB file\n",
    "dsi_cell = dsi_cells.iloc[0]\n",
    "\n",
    "# figure out which ophys experiment has the drifting gratings stimulus for the cell's experiment container\n",
    "cell_exp = boc.get_ophys_experiments(experiment_container_ids=[dsi_cell['experiment_container_id']], \n",
    "                                     stimuli=[stim_info.DRIFTING_GRATINGS])[0]\n",
    "\n",
    "data_set = boc.get_ophys_experiment_data(cell_exp['id'])\n",
    "\n",
    "print(\"Metadata from NWB file:\")\n",
    "pprint.pprint(data_set.get_metadata())\n",
    "\n",
    "print(\"stimuli available in this file:\")\n",
    "print(data_set.list_stimuli())"
   ]
  },
  {
   "cell_type": "markdown",
   "metadata": {},
   "source": [
    "## Fluorescence Traces\n",
    "Now that we have a data set, we can plot the traces for the cell we care about."
   ]
  },
  {
   "cell_type": "code",
   "execution_count": null,
   "metadata": {
    "collapsed": true
   },
   "outputs": [],
   "source": [
    "dsi_cell_id = dsi_cell['cell_specimen_id']\n",
    "time, raw_traces = data_set.get_fluorescence_traces(cell_specimen_ids=[dsi_cell_id])\n",
    "_, neuropil_traces = data_set.get_neuropil_traces(cell_specimen_ids=[dsi_cell_id])\n",
    "_, corrected_traces = data_set.get_corrected_fluorescence_traces(cell_specimen_ids=[dsi_cell_id])\n",
    "_, dff_traces = data_set.get_dff_traces(cell_specimen_ids=[dsi_cell_id])"
   ]
  },
  {
   "cell_type": "code",
   "execution_count": null,
   "metadata": {
    "collapsed": false
   },
   "outputs": [],
   "source": [
    "from matplotlib import pyplot as plt\n",
    "%matplotlib inline\n",
    "\n",
    "# plot raw and corrected ROI trace\n",
    "plt.figure(figsize=(14,4))\n",
    "plt.title(\"Raw Fluorescence Trace\")\n",
    "plt.plot(time, raw_traces[0])\n",
    "plt.show()\n",
    "\n",
    "plt.figure(figsize=(14,4))\n",
    "plt.title(\"Neuropil-corrected Fluorescence Trace\")\n",
    "plt.plot(time, corrected_traces[0])\n",
    "plt.show()\n",
    "\n",
    "plt.figure(figsize=(14,4))\n",
    "plt.title(\"dF/F Trace\")\n",
    "# warning: dF/F can occasionally be one element longer or shorter \n",
    "# than the time stamps for the original traces.\n",
    "plt.plot(time[:len(dff_traces[0])], dff_traces[0])\n",
    "plt.show()"
   ]
  },
  {
   "cell_type": "markdown",
   "metadata": {},
   "source": [
    "## ROI Masks\n",
    "If you want to take a look at the cell visually, you can open the NWB file and extract a pixel mask.  You can also pull out the maximum intensity projection of the movie for context."
   ]
  },
  {
   "cell_type": "code",
   "execution_count": null,
   "metadata": {
    "collapsed": false
   },
   "outputs": [],
   "source": [
    "import matplotlib.pyplot as plt\n",
    "import numpy as np\n",
    "%matplotlib inline\n",
    "\n",
    "data_set = boc.get_ophys_experiment_data(510221121)\n",
    "\n",
    "# get the specimen IDs for a few cells\n",
    "cids = data_set.get_cell_specimen_ids()[:15:5]\n",
    "\n",
    "# get masks for specific cells\n",
    "roi_mask_list = data_set.get_roi_mask(cell_specimen_ids=cids)\n",
    "\n",
    "# plot each mask\n",
    "f, axes = plt.subplots(1, len(cids)+2, figsize=(15, 3))\n",
    "for ax, roi_mask, cid in zip(axes[:-2], roi_mask_list, cids):\n",
    "    ax.imshow(roi_mask.get_mask_plane(), cmap='gray')\n",
    "    ax.set_title('cell %d' % cid)\n",
    "\n",
    "# make a mask of all ROIs in the experiment    \n",
    "all_roi_masks = data_set.get_roi_mask()\n",
    "sum_mask = np.zeros(data_set.MOVIE_FOV_PX)\n",
    "for roi_mask in all_roi_masks:\n",
    "    sum_mask[roi_mask.get_mask_plane()>0] = 1\n",
    "\n",
    "axes[-2].imshow(sum_mask, cmap='gray')\n",
    "axes[-2].set_title('all ROIs')\n",
    "\n",
    "# show the movie max projection\n",
    "max_projection = data_set.get_max_projection()\n",
    "axes[-1].imshow(max_projection, cmap='gray')\n",
    "axes[-1].set_title('max projection')\n",
    "\n",
    "plt.show()"
   ]
  },
  {
   "cell_type": "markdown",
   "metadata": {},
   "source": [
    "## ROI Analysis\n",
    "The code to compute all of the cell metrics available for download (along with several others we haven't put in our database yet) is in the AllenSDK.  All you need is an NWB file.  For example, this is how you compute metrics for the drifting gratings stimulus and plot some results."
   ]
  },
  {
   "cell_type": "code",
   "execution_count": null,
   "metadata": {
    "collapsed": false
   },
   "outputs": [],
   "source": [
    "from allensdk.brain_observatory.drifting_gratings import DriftingGratings\n",
    "\n",
    "# example loading drifing grating data\n",
    "data_set = boc.get_ophys_experiment_data(512326618)\n",
    "dg = DriftingGratings(data_set)\n",
    "print(\"done analyzing drifting grating\")"
   ]
  },
  {
   "cell_type": "code",
   "execution_count": null,
   "metadata": {
    "collapsed": false
   },
   "outputs": [],
   "source": [
    "import numpy as np\n",
    "from matplotlib import pyplot as plt\n",
    "%matplotlib inline\n",
    "\n",
    "# filter for visually responding, selective cells\n",
    "vis_cells = (dg.peak.ptest_dg < 0.05) &  (dg.peak.peak_dff_dg > 3)\n",
    "osi_cells = vis_cells & (dg.peak.osi_dg > 0.5) & (dg.peak.osi_dg <= 1.5)\n",
    "dsi_cells = vis_cells & (dg.peak.dsi_dg > 0.5) & (dg.peak.dsi_dg <= 1.5)\n",
    "\n",
    "# 2-d tf vs. ori histogram\n",
    "# tfval = 0 is used for the blank sweep, so we are ignoring it here\n",
    "os = np.zeros((len(dg.orivals), len(dg.tfvals)-1))\n",
    "ds = np.zeros((len(dg.orivals), len(dg.tfvals)-1))\n",
    "\n",
    "for i,trial in dg.peak[osi_cells].iterrows():\n",
    "    os[trial.ori_dg, trial.tf_dg-1] += 1\n",
    "    \n",
    "for i,trial in dg.peak[dsi_cells].iterrows():\n",
    "    ds[trial.ori_dg, trial.tf_dg-1] += 1\n",
    "\n",
    "max_count = max(os.max(), ds.max())\n",
    "\n",
    "fig, (ax1, ax2) = plt.subplots(1,2)\n",
    "\n",
    "# plot direction selectivity\n",
    "im = ax1.imshow(ds, clim=[0,max_count], cmap='hot', interpolation='nearest')\n",
    "ax1.set_xlabel('temporal frequency')\n",
    "ax1.set_ylabel('direction')\n",
    "ax1.set_xticks(np.arange(len(dg.tfvals)-1))\n",
    "ax1.set_xticklabels(dg.tfvals[1:])\n",
    "ax1.set_yticks(np.arange(len(dg.orivals)))\n",
    "ax1.set_yticklabels(dg.orivals)\n",
    "ax1.set_title('direction selective cells')\n",
    "\n",
    "# plot orientation selectivity\n",
    "im = ax2.imshow(os, clim=[0,max_count], cmap='hot', interpolation='nearest')\n",
    "ax2.set_xlabel('temporal frequency')\n",
    "ax2.set_ylabel('orientation')\n",
    "ax2.set_xticks(np.arange(len(dg.tfvals)-1))\n",
    "ax2.set_xticklabels(dg.tfvals[1:])\n",
    "ax2.set_yticks(np.arange(len(dg.orivals)))\n",
    "ax2.set_yticklabels(dg.orivals)\n",
    "ax2.set_title('orientation selective cells')\n",
    "\n",
    "# plot a colorbar\n",
    "fig.subplots_adjust(right=0.9)\n",
    "cbar_ax = fig.add_axes([0.95, 0.05, 0.05, 0.85])\n",
    "cbar = fig.colorbar(im, cax=cbar_ax)\n",
    "cbar.set_ticks(np.arange(0, max_count, 2)+0.5)\n",
    "cbar.set_ticklabels(np.arange(0, max_count, 2, dtype=int))\n",
    "\n",
    "plt.show()"
   ]
  },
  {
   "cell_type": "markdown",
   "metadata": {},
   "source": [
    "## Neuropil Correction\n",
    "All of the raw fluorescence traces are available in NWB files, but some of these signals are contaminated by nearby neuropil signal.  The code to perform neuropil correction is available in the AllenSDK and can be used as follows:"
   ]
  },
  {
   "cell_type": "code",
   "execution_count": null,
   "metadata": {
    "collapsed": false
   },
   "outputs": [],
   "source": [
    "from allensdk.brain_observatory.r_neuropil import estimate_contamination_ratios\n",
    "\n",
    "data_set = boc.get_ophys_experiment_data(510221121)\n",
    "csid = data_set.get_cell_specimen_ids()[0]\n",
    "\n",
    "time, raw_traces = data_set.get_fluorescence_traces(cell_specimen_ids=[csid])\n",
    "_, neuropil_traces = data_set.get_neuropil_traces(cell_specimen_ids=[csid])\n",
    "\n",
    "results = estimate_contamination_ratios(raw_traces[0], neuropil_traces[0])\n",
    "correction = raw_traces[0] - results['r'] * neuropil_traces[0]\n",
    "print(\"r = %f\" % results['r'])\n",
    "print(\"max error = %f\" % results['err'])"
   ]
  },
  {
   "cell_type": "markdown",
   "metadata": {},
   "source": [
    "The NWB files contain the neuropil traces and `r` values needed to perform this correction, so you don't need to recompute them.  The corrected trace can be computed on the fly when you use the `get_corrected_fluorescence_traces` method:"
   ]
  },
  {
   "cell_type": "code",
   "execution_count": null,
   "metadata": {
    "collapsed": false
   },
   "outputs": [],
   "source": [
    "_, corrected_traces = data_set.get_corrected_fluorescence_traces(cell_specimen_ids=[csid])\n",
    "\n",
    "plt.figure(figsize=(14,4))\n",
    "plt.title(\"Neuropil-corrected Fluorescence Trace\")\n",
    "plt.plot(time, corrected_traces[0])\n",
    "plt.show()"
   ]
  },
  {
   "cell_type": "markdown",
   "metadata": {},
   "source": [
    "## Compute dF/F\n",
    "You can compute dF/F for yourself using the `allensdk.brain_observatory.dff` module."
   ]
  },
  {
   "cell_type": "code",
   "execution_count": null,
   "metadata": {
    "collapsed": false
   },
   "outputs": [],
   "source": [
    "from allensdk.brain_observatory.dff import compute_dff\n",
    "\n",
    "plt.figure(figsize=(14,4))\n",
    "plt.title(\"dF/F Trace\")\n",
    "dff = compute_dff(np.array(corrected_traces))\n",
    "plt.plot(time, dff[0,:])\n",
    "plt.show()"
   ]
  },
  {
   "cell_type": "markdown",
   "metadata": {},
   "source": [
    "<div style='background-color:#fcc;padding:5px;border-radius:3px;border:1px solid #ccc'><b>Warning:</b>\n",
    "The dF/F traces stored in the NWB file differ slightly from the traces you can compute from the corrected traces as shown above.  The dF/F traces in the NWB file are computed from estimated cellular traces that obey the smoothness constraint of the neuropil subtraction algorithm.  This example shows how to take properly corrected cellular traces (accessible from the <tt>BrainObservatorNwbDataSet.get_corrected_fluorescence_traces</tt> method) and derive the correct dF/F trace.</div>"
   ]
  },
  {
   "cell_type": "markdown",
   "metadata": {},
   "source": [
    "## Running Speed\n",
    "We recorded the animal's running speed during the course of the experiment and made it available in the NWB file."
   ]
  },
  {
   "cell_type": "code",
   "execution_count": null,
   "metadata": {
    "collapsed": false
   },
   "outputs": [],
   "source": [
    "from matplotlib import pyplot as plt\n",
    "%matplotlib inline\n",
    "\n",
    "data_set = boc.get_ophys_experiment_data(501940850)\n",
    "\n",
    "dxcm, dxtime = data_set.get_running_speed()\n",
    "plt.figure(figsize=(14,4))\n",
    "plt.plot(dxtime, dxcm)\n",
    "plt.show()"
   ]
  },
  {
   "cell_type": "markdown",
   "metadata": {},
   "source": [
    "## Motion Correction\n",
    "X and Y translation values in pixels required to correct for motion artifacts during the experiment are available as well."
   ]
  },
  {
   "cell_type": "code",
   "execution_count": null,
   "metadata": {
    "collapsed": false
   },
   "outputs": [],
   "source": [
    "from matplotlib import pyplot as plt\n",
    "%matplotlib inline\n",
    "\n",
    "data_set = boc.get_ophys_experiment_data(501940850)\n",
    "\n",
    "mc = data_set.get_motion_correction()\n",
    "\n",
    "plt.figure(figsize=(14,4))\n",
    "plt.plot(mc.timestamp, mc.x_motion)\n",
    "plt.plot(mc.timestamp, mc.y_motion)\n",
    "plt.legend(['x motion','y motion'])\n",
    "plt.show()"
   ]
  }
 ],
 "metadata": {
  "kernelspec": {
   "display_name": "Python 2",
   "language": "python",
   "name": "python2"
  },
  "language_info": {
   "codemirror_mode": {
    "name": "ipython",
    "version": 2
   },
   "file_extension": ".py",
   "mimetype": "text/x-python",
   "name": "python",
   "nbconvert_exporter": "python",
   "pygments_lexer": "ipython2",
   "version": "2.7.12"
  }
 },
 "nbformat": 4,
 "nbformat_minor": 0
}
